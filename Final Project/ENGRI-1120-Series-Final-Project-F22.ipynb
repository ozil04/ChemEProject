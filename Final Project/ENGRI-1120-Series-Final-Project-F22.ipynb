{
 "cells": [
  {
   "cell_type": "markdown",
   "id": "23e6742b-9c1b-473a-af2e-40ba90ff883f",
   "metadata": {
    "tags": []
   },
   "source": [
    "# ENGRI 1120: Series Cell-free Production and Recovery of the mRNA BNT-162b2 Vaccine"
   ]
  },
  {
   "cell_type": "markdown",
   "id": "dbfbf87e-4766-4f57-884f-4f57c390cd3e",
   "metadata": {},
   "source": [
    "#### Chike Iwuala, Osvaldo Hernandez, Jake Pena, Anthony Parlatore"
   ]
  },
  {
   "cell_type": "markdown",
   "id": "057a795d-822e-4bef-a871-840fa2a087c8",
   "metadata": {},
   "source": [
    "<img src=\"figs/ProcessDesign3.png\" style=\"width:50%\">"
   ]
  },
  {
   "cell_type": "markdown",
   "id": "e2d1b90e-e590-4489-a136-16c74f81ccc5",
   "metadata": {},
   "source": [
    "## Introduction\n",
    "The project introduction goes here. Typically 2-3 paragraphs.\n",
    "\n",
    "__Suggestions__:\n",
    "* Paragraph 1: Describe the motivation and background information on the product and the vaccine \n",
    "* Paragraph 2/3: Summary of your project. Describe the number of units (don't forget the heat exchangers), details about the units’ operation, and your project’s financials. \n",
    "\n",
    "You can replace the figure above with your system.\n",
    "\n",
    "COVID-19 BNT-162b2 (tozinameran) vaccine is a mRNA molecule encapsulated in lipid nanoparticles (LNPs), which share many similarities to a traditional liposome. Once the LNP binds to a host cell, the LNPs transfers the mRNA, thereby enabling the expression of the SARS-CoV-2 spike protein and “achieving immunity” from the deadly SARS-CoV-2 infection. The tozinameran vaccine is administered in two doses. It was observed in a study — with about 43,548 participants — that the tozinameran vaccine had an efficacy of 95 percent after the second dose. For comparison, the Moderna vaccine has 94.1 percent after the second dose. This highlights the need to develop an economically feasible process that maximizes the production of the BNT-162b2 mRNA molecule so as to provide the vaccine at a lower cost, thereby increasing its potential availability to the public and reducing the competition for COVID-19 vaccines. This project will only lay out a process that produces the target amount of BNT-162b2 mRNA molecule. (It does not include the extra step of encasing it in an LNP.)\n",
    "\n",
    "The manufacturing process of the BNT-162b2 mRNA target molecule will need two syringe pumps, one stream splitter, 15 reactor chips, three heat exchangers, 1 magical separator unit (MSU), and two storage vessels. One of the syringe pumps transports the BNT-162b2 gene into a stream splitter, which will ensure that each reactor chip is supplied with an appropriate amount necessary to produce the BNT-162b2 mRNA molecule, while the other provides a stock solution of PURExpress, which is responsible for the expression of the BNT-162b2 gene, to the first reactor chip. Each reactor chip has a limited volume (about 100 μL), which makes it impossible to use up all the starting materials and manage to produce 0.1 μmoles of the BNT-162b2 mRNA target molecule in one reactor. This fact explains the need to include multiple reactor chips, which will run in-series, in the design. After the BNT-162b2 mRNA molecule and other unreacted starting materials has exited the last reactor chip, they will go through the MSU that is 100 percent effective. The MSU will divide the mRNA target molecule and the unreacted starting materials into two streams. These streams will transfer the aforementioned product and unreacted starting materials  into 2 different storage vessels. \n",
    "It is also important to note that the units described above operate optimally at temperatures that are significantly greater than the maximum temperature of stability for the mRNA molecule (-25℃). This issue can be resolved by including heat exchangers in the design. The first heat exchanger will be placed behind the stream splitter (and in front of syringe pump 1) and the second will be placed in front of syringe pump 2. These heat exchangers will heat the PURExpress and BNT-162b2 gene solutions to the operating temperature of the reactor chips (37℃). The third heat exchanger, which will be stationed after the last reactor chip, cools the mRNA molecule below -25℃.\n",
    "\n",
    "The total starting budget for this design process will be ***374,518,725 dollars***. This figure was derived from the assumption that we buy enough PURExpress to last in our manufacturing process for five years; the cost of PURExpress under this assumption is ***374,490,000 dollars***(about 99 percent of the total budget). The cost of the manufacturing units was estimated to be about ***28,725 dollars***. Under this design process, each micromole of mRNA-BNT162b2 would have to be sold at a retail price of ***1956.07 dollars*** to generate the same income as an alternative investment yielding 4.1 percent per year."
   ]
  },
  {
   "cell_type": "markdown",
   "id": "76c3d9a2-9965-4c36-90bd-392230585eca",
   "metadata": {
    "tags": []
   },
   "source": [
    "## Materials and Methods"
   ]
  },
  {
   "cell_type": "markdown",
   "id": "c992adca-0680-42cc-89d5-74b8d9c659b6",
   "metadata": {
    "tags": []
   },
   "source": [
    "### Project Setup"
   ]
  },
  {
   "cell_type": "code",
   "execution_count": 1,
   "id": "9087f9c8-fc35-4c16-9e4d-bd1ac8f71a2f",
   "metadata": {},
   "outputs": [
    {
     "name": "stderr",
     "output_type": "stream",
     "text": [
      "\u001b[32m\u001b[1m  Activating\u001b[22m\u001b[39m project at `~/Downloads/ChemEProject-main 3/project`\n",
      "\u001b[32m\u001b[1m    Updating\u001b[22m\u001b[39m `~/Downloads/ChemEProject-main 3/project/Project.toml`\n",
      " \u001b[90m [5ae59095] \u001b[39m\u001b[92m+ Colors v0.12.8\u001b[39m\n",
      " \u001b[90m [a93c6f00] \u001b[39m\u001b[92m+ DataFrames v1.3.4\u001b[39m\n",
      " \u001b[90m [5789e2e9] \u001b[39m\u001b[92m+ FileIO v1.15.0\u001b[39m\n",
      " \u001b[90m [60bf3e95] \u001b[39m\u001b[92m+ GLPK v1.0.1\u001b[39m\n",
      " \u001b[90m [033835bb] \u001b[39m\u001b[92m+ JLD2 v0.4.22\u001b[39m\n",
      " \u001b[90m [91a5bcdd] \u001b[39m\u001b[92m+ Plots v1.31.7\u001b[39m\n",
      " \u001b[90m [08abe8d2] \u001b[39m\u001b[92m+ PrettyTables v1.3.1\u001b[39m\n",
      "\u001b[32m\u001b[1m    Updating\u001b[22m\u001b[39m `~/Downloads/ChemEProject-main 3/project/Manifest.toml`\n",
      " \u001b[90m [79e6a3ab] \u001b[39m\u001b[92m+ Adapt v3.4.0\u001b[39m\n",
      " \u001b[90m [6e4b80f9] \u001b[39m\u001b[92m+ BenchmarkTools v1.3.1\u001b[39m\n",
      " \u001b[90m [d360d2e6] \u001b[39m\u001b[92m+ ChainRulesCore v1.15.3\u001b[39m\n",
      " \u001b[90m [9e997f8a] \u001b[39m\u001b[92m+ ChangesOfVariables v0.1.4\u001b[39m\n",
      " \u001b[90m [523fee87] \u001b[39m\u001b[92m+ CodecBzip2 v0.7.2\u001b[39m\n",
      " \u001b[90m [944b1d66] \u001b[39m\u001b[92m+ CodecZlib v0.7.0\u001b[39m\n",
      " \u001b[90m [35d6a980] \u001b[39m\u001b[92m+ ColorSchemes v3.19.0\u001b[39m\n",
      " \u001b[90m [3da002f7] \u001b[39m\u001b[92m+ ColorTypes v0.11.4\u001b[39m\n",
      " \u001b[90m [c3611d14] \u001b[39m\u001b[92m+ ColorVectorSpace v0.9.9\u001b[39m\n",
      " \u001b[90m [5ae59095] \u001b[39m\u001b[92m+ Colors v0.12.8\u001b[39m\n",
      " \u001b[90m [bbf7d656] \u001b[39m\u001b[92m+ CommonSubexpressions v0.3.0\u001b[39m\n",
      "\u001b[33m⌅\u001b[39m\u001b[90m [34da2185] \u001b[39m\u001b[92m+ Compat v3.46.0\u001b[39m\n",
      " \u001b[90m [d38c429a] \u001b[39m\u001b[92m+ Contour v0.6.2\u001b[39m\n",
      " \u001b[90m [a8cc5b0e] \u001b[39m\u001b[92m+ Crayons v4.1.1\u001b[39m\n",
      " \u001b[90m [9a962f9c] \u001b[39m\u001b[92m+ DataAPI v1.10.0\u001b[39m\n",
      " \u001b[90m [a93c6f00] \u001b[39m\u001b[92m+ DataFrames v1.3.4\u001b[39m\n",
      " \u001b[90m [864edb3b] \u001b[39m\u001b[92m+ DataStructures v0.18.13\u001b[39m\n",
      " \u001b[90m [e2d170a0] \u001b[39m\u001b[92m+ DataValueInterfaces v1.0.0\u001b[39m\n",
      " \u001b[90m [163ba53b] \u001b[39m\u001b[92m+ DiffResults v1.0.3\u001b[39m\n",
      " \u001b[90m [b552c78f] \u001b[39m\u001b[92m+ DiffRules v1.11.0\u001b[39m\n",
      " \u001b[90m [ffbed154] \u001b[39m\u001b[92m+ DocStringExtensions v0.9.1\u001b[39m\n",
      " \u001b[90m [411431e0] \u001b[39m\u001b[92m+ Extents v0.1.1\u001b[39m\n",
      " \u001b[90m [c87230d0] \u001b[39m\u001b[92m+ FFMPEG v0.4.1\u001b[39m\n",
      " \u001b[90m [5789e2e9] \u001b[39m\u001b[92m+ FileIO v1.15.0\u001b[39m\n",
      " \u001b[90m [53c48c17] \u001b[39m\u001b[92m+ FixedPointNumbers v0.8.4\u001b[39m\n",
      " \u001b[90m [59287772] \u001b[39m\u001b[92m+ Formatting v0.4.2\u001b[39m\n",
      " \u001b[90m [f6369f11] \u001b[39m\u001b[92m+ ForwardDiff v0.10.32\u001b[39m\n",
      " \u001b[90m [60bf3e95] \u001b[39m\u001b[92m+ GLPK v1.0.1\u001b[39m\n",
      " \u001b[90m [28b8d3ca] \u001b[39m\u001b[92m+ GR v0.66.2\u001b[39m\n",
      " \u001b[90m [cf35fbd7] \u001b[39m\u001b[92m+ GeoInterface v1.0.1\u001b[39m\n",
      " \u001b[90m [5c1252a2] \u001b[39m\u001b[92m+ GeometryBasics v0.4.3\u001b[39m\n",
      " \u001b[90m [42e2da0e] \u001b[39m\u001b[92m+ Grisu v1.0.2\u001b[39m\n",
      " \u001b[90m [cd3eb016] \u001b[39m\u001b[92m+ HTTP v1.2.1\u001b[39m\n",
      " \u001b[90m [83e8ac13] \u001b[39m\u001b[92m+ IniFile v0.5.1\u001b[39m\n",
      " \u001b[90m [3587e190] \u001b[39m\u001b[92m+ InverseFunctions v0.1.7\u001b[39m\n",
      " \u001b[90m [41ab1584] \u001b[39m\u001b[92m+ InvertedIndices v1.1.0\u001b[39m\n",
      " \u001b[90m [92d709cd] \u001b[39m\u001b[92m+ IrrationalConstants v0.1.1\u001b[39m\n",
      " \u001b[90m [c8e1da08] \u001b[39m\u001b[92m+ IterTools v1.4.0\u001b[39m\n",
      " \u001b[90m [82899510] \u001b[39m\u001b[92m+ IteratorInterfaceExtensions v1.0.0\u001b[39m\n",
      " \u001b[90m [033835bb] \u001b[39m\u001b[92m+ JLD2 v0.4.22\u001b[39m\n",
      " \u001b[90m [692b3bcd] \u001b[39m\u001b[92m+ JLLWrappers v1.4.1\u001b[39m\n",
      " \u001b[90m [682c06a0] \u001b[39m\u001b[92m+ JSON v0.21.3\u001b[39m\n",
      " \u001b[90m [b964fa9f] \u001b[39m\u001b[92m+ LaTeXStrings v1.3.0\u001b[39m\n",
      " \u001b[90m [23fbe1c1] \u001b[39m\u001b[92m+ Latexify v0.15.16\u001b[39m\n",
      " \u001b[90m [2ab3a3ac] \u001b[39m\u001b[92m+ LogExpFunctions v0.3.18\u001b[39m\n",
      " \u001b[90m [e6f89c97] \u001b[39m\u001b[92m+ LoggingExtras v0.4.9\u001b[39m\n",
      " \u001b[90m [1914dd2f] \u001b[39m\u001b[92m+ MacroTools v0.5.9\u001b[39m\n",
      " \u001b[90m [b8f27783] \u001b[39m\u001b[92m+ MathOptInterface v1.7.0\u001b[39m\n",
      " \u001b[90m [739be429] \u001b[39m\u001b[92m+ MbedTLS v1.1.3\u001b[39m\n",
      " \u001b[90m [442fdcdd] \u001b[39m\u001b[92m+ Measures v0.3.1\u001b[39m\n",
      " \u001b[90m [e1d29d7a] \u001b[39m\u001b[92m+ Missings v1.0.2\u001b[39m\n",
      " \u001b[90m [d8a4904e] \u001b[39m\u001b[92m+ MutableArithmetics v1.0.4\u001b[39m\n",
      " \u001b[90m [77ba4419] \u001b[39m\u001b[92m+ NaNMath v1.0.1\u001b[39m\n",
      " \u001b[90m [bac558e1] \u001b[39m\u001b[92m+ OrderedCollections v1.4.1\u001b[39m\n",
      " \u001b[90m [69de0a69] \u001b[39m\u001b[92m+ Parsers v2.3.2\u001b[39m\n",
      " \u001b[90m [ccf2f8ad] \u001b[39m\u001b[92m+ PlotThemes v3.0.0\u001b[39m\n",
      " \u001b[90m [995b91a9] \u001b[39m\u001b[92m+ PlotUtils v1.3.0\u001b[39m\n",
      " \u001b[90m [91a5bcdd] \u001b[39m\u001b[92m+ Plots v1.31.7\u001b[39m\n",
      " \u001b[90m [2dfb63ee] \u001b[39m\u001b[92m+ PooledArrays v1.4.2\u001b[39m\n",
      " \u001b[90m [21216c6a] \u001b[39m\u001b[92m+ Preferences v1.3.0\u001b[39m\n",
      " \u001b[90m [08abe8d2] \u001b[39m\u001b[92m+ PrettyTables v1.3.1\u001b[39m\n",
      " \u001b[90m [3cdcf5f2] \u001b[39m\u001b[92m+ RecipesBase v1.2.1\u001b[39m\n",
      " \u001b[90m [01d81517] \u001b[39m\u001b[92m+ RecipesPipeline v0.6.3\u001b[39m\n",
      " \u001b[90m [189a3867] \u001b[39m\u001b[92m+ Reexport v1.2.2\u001b[39m\n",
      " \u001b[90m [05181044] \u001b[39m\u001b[92m+ RelocatableFolders v0.3.0\u001b[39m\n",
      " \u001b[90m [ae029012] \u001b[39m\u001b[92m+ Requires v1.3.0\u001b[39m\n",
      " \u001b[90m [6c6a2e73] \u001b[39m\u001b[92m+ Scratch v1.1.1\u001b[39m\n",
      " \u001b[90m [992d4aef] \u001b[39m\u001b[92m+ Showoff v1.0.3\u001b[39m\n",
      " \u001b[90m [777ac1f9] \u001b[39m\u001b[92m+ SimpleBufferStream v1.1.0\u001b[39m\n",
      " \u001b[90m [a2af1166] \u001b[39m\u001b[92m+ SortingAlgorithms v1.0.1\u001b[39m\n",
      " \u001b[90m [276daf66] \u001b[39m\u001b[92m+ SpecialFunctions v2.1.7\u001b[39m\n",
      "\u001b[32m⌃\u001b[39m\u001b[90m [90137ffa] \u001b[39m\u001b[92m+ StaticArrays v1.5.3\u001b[39m\n",
      " \u001b[90m [1e83bf80] \u001b[39m\u001b[92m+ StaticArraysCore v1.3.0\u001b[39m\n",
      " \u001b[90m [82ae8749] \u001b[39m\u001b[92m+ StatsAPI v1.5.0\u001b[39m\n",
      " \u001b[90m [2913bbd2] \u001b[39m\u001b[92m+ StatsBase v0.33.21\u001b[39m\n",
      " \u001b[90m [09ab397b] \u001b[39m\u001b[92m+ StructArrays v0.6.12\u001b[39m\n",
      " \u001b[90m [3783bdb8] \u001b[39m\u001b[92m+ TableTraits v1.0.1\u001b[39m\n",
      " \u001b[90m [bd369af6] \u001b[39m\u001b[92m+ Tables v1.7.0\u001b[39m\n",
      " \u001b[90m [62fd8b95] \u001b[39m\u001b[92m+ TensorCore v0.1.1\u001b[39m\n",
      " \u001b[90m [3bb67fe8] \u001b[39m\u001b[92m+ TranscodingStreams v0.9.8\u001b[39m\n",
      " \u001b[90m [5c2747f8] \u001b[39m\u001b[92m+ URIs v1.4.0\u001b[39m\n",
      " \u001b[90m [1cfade01] \u001b[39m\u001b[92m+ UnicodeFun v0.4.1\u001b[39m\n",
      " \u001b[90m [41fe7b60] \u001b[39m\u001b[92m+ Unzip v0.1.2\u001b[39m\n",
      " \u001b[90m [6e34b625] \u001b[39m\u001b[92m+ Bzip2_jll v1.0.8+0\u001b[39m\n",
      " \u001b[90m [83423d85] \u001b[39m\u001b[92m+ Cairo_jll v1.16.1+1\u001b[39m\n",
      " \u001b[90m [5ae413db] \u001b[39m\u001b[92m+ EarCut_jll v2.2.3+0\u001b[39m\n",
      " \u001b[90m [2e619515] \u001b[39m\u001b[92m+ Expat_jll v2.4.8+0\u001b[39m\n",
      " \u001b[90m [b22a6f82] \u001b[39m\u001b[92m+ FFMPEG_jll v4.4.2+0\u001b[39m\n",
      " \u001b[90m [a3f928ae] \u001b[39m\u001b[92m+ Fontconfig_jll v2.13.93+0\u001b[39m\n",
      " \u001b[90m [d7e528f0] \u001b[39m\u001b[92m+ FreeType2_jll v2.10.4+0\u001b[39m\n",
      " \u001b[90m [559328eb] \u001b[39m\u001b[92m+ FriBidi_jll v1.0.10+0\u001b[39m\n",
      " \u001b[90m [0656b61e] \u001b[39m\u001b[92m+ GLFW_jll v3.3.8+0\u001b[39m\n",
      " \u001b[90m [e8aa6df9] \u001b[39m\u001b[92m+ GLPK_jll v5.0.1+0\u001b[39m\n",
      " \u001b[90m [d2c73de3] \u001b[39m\u001b[92m+ GR_jll v0.66.2+0\u001b[39m\n",
      " \u001b[90m [78b55507] \u001b[39m\u001b[92m+ Gettext_jll v0.21.0+0\u001b[39m\n",
      " \u001b[90m [7746bdde] \u001b[39m\u001b[92m+ Glib_jll v2.68.3+2\u001b[39m\n",
      " \u001b[90m [3b182d85] \u001b[39m\u001b[92m+ Graphite2_jll v1.3.14+0\u001b[39m\n",
      " \u001b[90m [2e76f6c2] \u001b[39m\u001b[92m+ HarfBuzz_jll v2.8.1+1\u001b[39m\n",
      " \u001b[90m [aacddb02] \u001b[39m\u001b[92m+ JpegTurbo_jll v2.1.2+0\u001b[39m\n",
      " \u001b[90m [c1c5ebd0] \u001b[39m\u001b[92m+ LAME_jll v3.100.1+0\u001b[39m\n",
      " \u001b[90m [88015f11] \u001b[39m\u001b[92m+ LERC_jll v3.0.0+1\u001b[39m\n",
      " \u001b[90m [dd4b983a] \u001b[39m\u001b[92m+ LZO_jll v2.10.1+0\u001b[39m\n",
      " \u001b[90m [e9f186c6] \u001b[39m\u001b[92m+ Libffi_jll v3.2.2+1\u001b[39m\n",
      " \u001b[90m [d4300ac3] \u001b[39m\u001b[92m+ Libgcrypt_jll v1.8.7+0\u001b[39m\n",
      " \u001b[90m [7e76a0d4] \u001b[39m\u001b[92m+ Libglvnd_jll v1.3.0+3\u001b[39m\n",
      " \u001b[90m [7add5ba3] \u001b[39m\u001b[92m+ Libgpg_error_jll v1.42.0+0\u001b[39m\n",
      " \u001b[90m [94ce4f54] \u001b[39m\u001b[92m+ Libiconv_jll v1.16.1+1\u001b[39m\n",
      " \u001b[90m [4b2f31a3] \u001b[39m\u001b[92m+ Libmount_jll v2.35.0+0\u001b[39m\n",
      " \u001b[90m [89763e89] \u001b[39m\u001b[92m+ Libtiff_jll v4.4.0+0\u001b[39m\n",
      " \u001b[90m [38a345b3] \u001b[39m\u001b[92m+ Libuuid_jll v2.36.0+0\u001b[39m\n",
      " \u001b[90m [e7412a2a] \u001b[39m\u001b[92m+ Ogg_jll v1.3.5+1\u001b[39m\n",
      " \u001b[90m [458c3c95] \u001b[39m\u001b[92m+ OpenSSL_jll v1.1.17+0\u001b[39m\n",
      " \u001b[90m [efe28fd5] \u001b[39m\u001b[92m+ OpenSpecFun_jll v0.5.5+0\u001b[39m\n",
      " \u001b[90m [91d4177d] \u001b[39m\u001b[92m+ Opus_jll v1.3.2+0\u001b[39m\n",
      " \u001b[90m [2f80f16e] \u001b[39m\u001b[92m+ PCRE_jll v8.44.0+0\u001b[39m\n",
      " \u001b[90m [30392449] \u001b[39m\u001b[92m+ Pixman_jll v0.40.1+0\u001b[39m\n",
      " \u001b[90m [ea2cea3b] \u001b[39m\u001b[92m+ Qt5Base_jll v5.15.3+1\u001b[39m\n",
      " \u001b[90m [a2964d1f] \u001b[39m\u001b[92m+ Wayland_jll v1.19.0+0\u001b[39m\n",
      " \u001b[90m [2381bf8a] \u001b[39m\u001b[92m+ Wayland_protocols_jll v1.25.0+0\u001b[39m\n",
      " \u001b[90m [02c8fc9c] \u001b[39m\u001b[92m+ XML2_jll v2.9.14+0\u001b[39m\n",
      " \u001b[90m [aed1982a] \u001b[39m\u001b[92m+ XSLT_jll v1.1.34+0\u001b[39m\n",
      " \u001b[90m [4f6342f7] \u001b[39m\u001b[92m+ Xorg_libX11_jll v1.6.9+4\u001b[39m\n",
      " \u001b[90m [0c0b7dd1] \u001b[39m\u001b[92m+ Xorg_libXau_jll v1.0.9+4\u001b[39m\n",
      " \u001b[90m [935fb764] \u001b[39m\u001b[92m+ Xorg_libXcursor_jll v1.2.0+4\u001b[39m\n",
      " \u001b[90m [a3789734] \u001b[39m\u001b[92m+ Xorg_libXdmcp_jll v1.1.3+4\u001b[39m\n",
      " \u001b[90m [1082639a] \u001b[39m\u001b[92m+ Xorg_libXext_jll v1.3.4+4\u001b[39m\n",
      " \u001b[90m [d091e8ba] \u001b[39m\u001b[92m+ Xorg_libXfixes_jll v5.0.3+4\u001b[39m\n",
      " \u001b[90m [a51aa0fd] \u001b[39m\u001b[92m+ Xorg_libXi_jll v1.7.10+4\u001b[39m\n",
      " \u001b[90m [d1454406] \u001b[39m\u001b[92m+ Xorg_libXinerama_jll v1.1.4+4\u001b[39m\n",
      " \u001b[90m [ec84b674] \u001b[39m\u001b[92m+ Xorg_libXrandr_jll v1.5.2+4\u001b[39m\n",
      " \u001b[90m [ea2f1a96] \u001b[39m\u001b[92m+ Xorg_libXrender_jll v0.9.10+4\u001b[39m\n",
      " \u001b[90m [14d82f49] \u001b[39m\u001b[92m+ Xorg_libpthread_stubs_jll v0.1.0+3\u001b[39m\n",
      " \u001b[90m [c7cfdc94] \u001b[39m\u001b[92m+ Xorg_libxcb_jll v1.13.0+3\u001b[39m\n",
      " \u001b[90m [cc61e674] \u001b[39m\u001b[92m+ Xorg_libxkbfile_jll v1.1.0+4\u001b[39m\n",
      " \u001b[90m [12413925] \u001b[39m\u001b[92m+ Xorg_xcb_util_image_jll v0.4.0+1\u001b[39m\n",
      " \u001b[90m [2def613f] \u001b[39m\u001b[92m+ Xorg_xcb_util_jll v0.4.0+1\u001b[39m\n",
      " \u001b[90m [975044d2] \u001b[39m\u001b[92m+ Xorg_xcb_util_keysyms_jll v0.4.0+1\u001b[39m\n",
      " \u001b[90m [0d47668e] \u001b[39m\u001b[92m+ Xorg_xcb_util_renderutil_jll v0.3.9+1\u001b[39m\n",
      " \u001b[90m [c22f9ab0] \u001b[39m\u001b[92m+ Xorg_xcb_util_wm_jll v0.4.1+1\u001b[39m\n",
      " \u001b[90m [35661453] \u001b[39m\u001b[92m+ Xorg_xkbcomp_jll v1.4.2+4\u001b[39m\n",
      " \u001b[90m [33bec58e] \u001b[39m\u001b[92m+ Xorg_xkeyboard_config_jll v2.27.0+4\u001b[39m\n",
      " \u001b[90m [c5fb5394] \u001b[39m\u001b[92m+ Xorg_xtrans_jll v1.4.0+3\u001b[39m\n",
      " \u001b[90m [3161d3a3] \u001b[39m\u001b[92m+ Zstd_jll v1.5.2+0\u001b[39m\n",
      " \u001b[90m [a4ae2306] \u001b[39m\u001b[92m+ libaom_jll v3.4.0+0\u001b[39m\n",
      " \u001b[90m [0ac62f75] \u001b[39m\u001b[92m+ libass_jll v0.15.1+0\u001b[39m\n",
      " \u001b[90m [f638f0a6] \u001b[39m\u001b[92m+ libfdk_aac_jll v2.0.2+0\u001b[39m\n",
      " \u001b[90m [b53b4c65] \u001b[39m\u001b[92m+ libpng_jll v1.6.38+0\u001b[39m\n",
      " \u001b[90m [f27f6e37] \u001b[39m\u001b[92m+ libvorbis_jll v1.3.7+1\u001b[39m\n",
      " \u001b[90m [1270edf5] \u001b[39m\u001b[92m+ x264_jll v2021.5.5+0\u001b[39m\n",
      " \u001b[90m [dfaa095f] \u001b[39m\u001b[92m+ x265_jll v3.5.0+0\u001b[39m\n",
      " \u001b[90m [d8fb68d0] \u001b[39m\u001b[92m+ xkbcommon_jll v1.4.1+0\u001b[39m\n",
      " \u001b[90m [0dad84c5] \u001b[39m\u001b[92m+ ArgTools v1.1.1\u001b[39m\n",
      " \u001b[90m [56f22d72] \u001b[39m\u001b[92m+ Artifacts\u001b[39m\n",
      " \u001b[90m [2a0f44e3] \u001b[39m\u001b[92m+ Base64\u001b[39m\n",
      " \u001b[90m [ade2ca70] \u001b[39m\u001b[92m+ Dates\u001b[39m\n",
      " \u001b[90m [8bb1440f] \u001b[39m\u001b[92m+ DelimitedFiles\u001b[39m\n",
      " \u001b[90m [8ba89e20] \u001b[39m\u001b[92m+ Distributed\u001b[39m\n",
      " \u001b[90m [f43a241f] \u001b[39m\u001b[92m+ Downloads v1.6.0\u001b[39m\n",
      " \u001b[90m [7b1f6079] \u001b[39m\u001b[92m+ FileWatching\u001b[39m\n",
      " \u001b[90m [9fa8497b] \u001b[39m\u001b[92m+ Future\u001b[39m\n",
      " \u001b[90m [b77e0a4c] \u001b[39m\u001b[92m+ InteractiveUtils\u001b[39m\n",
      " \u001b[90m [b27032c2] \u001b[39m\u001b[92m+ LibCURL v0.6.3\u001b[39m\n",
      " \u001b[90m [76f85450] \u001b[39m\u001b[92m+ LibGit2\u001b[39m\n",
      " \u001b[90m [8f399da3] \u001b[39m\u001b[92m+ Libdl\u001b[39m\n",
      " \u001b[90m [37e2e46d] \u001b[39m\u001b[92m+ LinearAlgebra\u001b[39m\n",
      " \u001b[90m [56ddb016] \u001b[39m\u001b[92m+ Logging\u001b[39m\n",
      " \u001b[90m [d6f4376e] \u001b[39m\u001b[92m+ Markdown\u001b[39m\n",
      " \u001b[90m [a63ad114] \u001b[39m\u001b[92m+ Mmap\u001b[39m\n",
      " \u001b[90m [ca575930] \u001b[39m\u001b[92m+ NetworkOptions v1.2.0\u001b[39m\n",
      " \u001b[90m [44cfe95a] \u001b[39m\u001b[92m+ Pkg v1.8.0\u001b[39m\n",
      " \u001b[90m [de0858da] \u001b[39m\u001b[92m+ Printf\u001b[39m\n",
      " \u001b[90m [9abbd945] \u001b[39m\u001b[92m+ Profile\u001b[39m\n",
      " \u001b[90m [3fa0cd96] \u001b[39m\u001b[92m+ REPL\u001b[39m\n",
      " \u001b[90m [9a3f8284] \u001b[39m\u001b[92m+ Random\u001b[39m\n",
      " \u001b[90m [ea8e919c] \u001b[39m\u001b[92m+ SHA v0.7.0\u001b[39m\n",
      " \u001b[90m [9e88b42a] \u001b[39m\u001b[92m+ Serialization\u001b[39m\n",
      " \u001b[90m [1a1011a3] \u001b[39m\u001b[92m+ SharedArrays\u001b[39m\n",
      " \u001b[90m [6462fe0b] \u001b[39m\u001b[92m+ Sockets\u001b[39m\n",
      " \u001b[90m [2f01184e] \u001b[39m\u001b[92m+ SparseArrays\u001b[39m\n",
      " \u001b[90m [10745b16] \u001b[39m\u001b[92m+ Statistics\u001b[39m\n",
      " \u001b[90m [fa267f1f] \u001b[39m\u001b[92m+ TOML v1.0.0\u001b[39m\n",
      " \u001b[90m [a4e569a6] \u001b[39m\u001b[92m+ Tar v1.10.0\u001b[39m\n",
      " \u001b[90m [8dfed614] \u001b[39m\u001b[92m+ Test\u001b[39m\n",
      " \u001b[90m [cf7118a7] \u001b[39m\u001b[92m+ UUIDs\u001b[39m\n",
      " \u001b[90m [4ec0a83e] \u001b[39m\u001b[92m+ Unicode\u001b[39m\n",
      " \u001b[90m [e66e0078] \u001b[39m\u001b[92m+ CompilerSupportLibraries_jll v0.5.2+0\u001b[39m\n",
      " \u001b[90m [781609d7] \u001b[39m\u001b[92m+ GMP_jll v6.2.1+2\u001b[39m\n",
      " \u001b[90m [deac9b47] \u001b[39m\u001b[92m+ LibCURL_jll v7.84.0+0\u001b[39m\n",
      " \u001b[90m [29816b5a] \u001b[39m\u001b[92m+ LibSSH2_jll v1.10.2+0\u001b[39m\n",
      " \u001b[90m [c8ffd9c3] \u001b[39m\u001b[92m+ MbedTLS_jll v2.28.0+0\u001b[39m\n",
      " \u001b[90m [14a3606d] \u001b[39m\u001b[92m+ MozillaCACerts_jll v2022.2.1\u001b[39m\n",
      " \u001b[90m [4536629a] \u001b[39m\u001b[92m+ OpenBLAS_jll v0.3.20+0\u001b[39m\n",
      " \u001b[90m [05823500] \u001b[39m\u001b[92m+ OpenLibm_jll v0.8.1+0\u001b[39m\n",
      " \u001b[90m [83775a58] \u001b[39m\u001b[92m+ Zlib_jll v1.2.12+3\u001b[39m\n",
      " \u001b[90m [8e850b90] \u001b[39m\u001b[92m+ libblastrampoline_jll v5.1.1+0\u001b[39m\n",
      " \u001b[90m [8e850ede] \u001b[39m\u001b[92m+ nghttp2_jll v1.48.0+0\u001b[39m\n",
      " \u001b[90m [3f19e933] \u001b[39m\u001b[92m+ p7zip_jll v17.4.0+0\u001b[39m\n",
      "\u001b[36m\u001b[1m        Info\u001b[22m\u001b[39m Packages marked with \u001b[32m⌃\u001b[39m and \u001b[33m⌅\u001b[39m have new versions available, but those with \u001b[33m⌅\u001b[39m cannot be upgraded. To see why use `status --outdated -m`\n"
     ]
    }
   ],
   "source": [
    "import Pkg; Pkg.activate(\".\"); Pkg.resolve(); Pkg.instantiate();"
   ]
  },
  {
   "cell_type": "code",
   "execution_count": 2,
   "id": "8b6f5e95-6b27-4294-82a1-0d36c8043946",
   "metadata": {},
   "outputs": [],
   "source": [
    "# load reqd packages and set paths -\n",
    "using JLD2\n",
    "using FileIO\n",
    "using PrettyTables\n",
    "using DataFrames\n",
    "using GLPK\n",
    "\n",
    "# setup paths -\n",
    "const _ROOT = pwd();\n",
    "const _PATH_TO_DATA = joinpath(_ROOT, \"data\");"
   ]
  },
  {
   "cell_type": "markdown",
   "id": "d92ba20b-7096-4cb5-9dcf-4375a8abc3b5",
   "metadata": {},
   "source": [
    "#### Load the project code library\n",
    "The call to the `include` function loads the `ENGRI-1120-Project-CodeLib.jl` library into the notebook; the library contains functions we can use during the project. In particular, it includes the function:\n",
    "\n",
    "* The `compute_optimal_extent(stoichiometric_matrix::Array{Float64,2}, default_bounds_array::Array{Float64,2},\n",
    "    species_bounds_array::Array{Float64,2}, objective_coefficient_array::Array{Float64,1}; min_flag::Bool = true) -> Tuple` function calls the [GLPK](https://www.gnu.org/software/glpk/) linear program solver. The `results` tuple contains several things, but the important ones are `calculated_flux_array`, `objective_value`, and the status/exit flags `status_flag` and `exit_flag` (which let us know if the solver successfully found a solution).\n",
    "* The `build(model::Type{MSULatticeModel}; ṅₒ::Float64, L::Int64, u::Float64, d::Float64) -> MSULatticeModel` function builds a [Binary tree](https://en.wikipedia.org/wiki/Binary_tree) of Magical Separation Units (MSUs). Arguments: $ṅₒ$ denotes the species mole flow rate into the separation system, $L$ denotes the number of layers of the tree, $u$ denotes the `up` factor (split for the `up` path), and $d$ denotes the `down` factor (the split for the `down` path). This function returns the `MSULatticeModel` model, which contains the column array `data` holding the species mole flow rate for each node in the tree. \n",
    "* The `build_nodes_dictionary(levels::Int64) -> Dict{Int64,Array{Int64,1}}` function constructs a dictionary of node indexes for each level of the tree; keys are the tree levels."
   ]
  },
  {
   "cell_type": "code",
   "execution_count": 3,
   "id": "643bb3f5-8a44-4d10-8aaf-bac7c94ec962",
   "metadata": {},
   "outputs": [],
   "source": [
    "include(\"ENGRI-1120-Project-CodeLib.jl\");"
   ]
  },
  {
   "cell_type": "code",
   "execution_count": 4,
   "id": "a3090808-15ee-44ba-ac55-2097a7a9f9c5",
   "metadata": {},
   "outputs": [
    {
     "name": "stderr",
     "output_type": "stream",
     "text": [
      "┌ Warning: the following fields are present in type DataFrame saved in the file but not present in the type the workspace:\n",
      "│ \n",
      "│ metadata\n",
      "│ colmetadata\n",
      "│ allnotemetadata,\n",
      "│ \n",
      "│ Data in these fields will not be accessible\n",
      "└ @ JLD2 /Users/osvaldohernandez/.julia/packages/JLD2/k9Gt0/src/data/reconstructing_datatypes.jl:196\n"
     ]
    },
    {
     "data": {
      "text/plain": [
       "Dict{String, Any} with 7 entries:\n",
       "  \"stochiometric_matrix\" => [-1.0 0.0 … 0.0 -1.0; -1.0 0.0 … -1.0 0.0; … ; 1.0 …\n",
       "  \"list_of_reactions\"    => [\"TX_BNT_162b2_binding\", \"TX_BNT_162b2_open\", \"BNT_…\n",
       "  \"reaction_table\"       => \u001b[1m6×7 DataFrame\u001b[0m…\n",
       "  \"flux_bounds_array\"    => [-1000.0 1000.0; 0.0 1000.0; … ; 0.0 1000.0; 0.0 10…\n",
       "  \"mRNA_sequence\"        => ['C', 'U', 'C', 'U', 'U', 'A', 'U', 'U', 'U', 'G'  …\n",
       "  \"list_of_species\"      => [\"G_BNT_162b2\", \"T7RNAP\", \"M_atp_c\", \"M_utp_c\", \"M_…\n",
       "  \"gene_sequence\"        => ['G', 'A', 'G', 'A', 'A', 'T', 'A', 'A', 'A', 'C'  …"
      ]
     },
     "execution_count": 4,
     "metadata": {},
     "output_type": "execute_result"
    }
   ],
   "source": [
    "# load the model file -\n",
    "model = load(joinpath(_PATH_TO_DATA, \"ENGRI-1120-BNT162b2-Model.jld2\"))[\"model\"]"
   ]
  },
  {
   "cell_type": "code",
   "execution_count": 5,
   "id": "a5dcb1bf-32c2-449c-ae06-a55f44ec0994",
   "metadata": {},
   "outputs": [],
   "source": [
    "# get stuff from the model data structure -\n",
    "S = model[\"stochiometric_matrix\"]; # fix the spelling in the model file\n",
    "flux_bounds_array = model[\"flux_bounds_array\"];\n",
    "list_of_species = model[\"list_of_species\"];\n",
    "list_of_reactions = model[\"list_of_reactions\"];\n",
    "reaction_table = model[\"reaction_table\"];\n",
    "gene_sequence = model[\"gene_sequence\"];"
   ]
  },
  {
   "cell_type": "code",
   "execution_count": 6,
   "id": "55db9867-ef5f-415f-908a-4f8be8338f4b",
   "metadata": {},
   "outputs": [
    {
     "data": {
      "text/html": [
       "<div class=\"data-frame\"><p>6 rows × 7 columns (omitted printing of 5 columns)</p><table class=\"data-frame\"><thead><tr><th></th><th>id</th><th>forward</th></tr><tr><th></th><th title=\"String\">String</th><th title=\"String\">String</th></tr></thead><tbody><tr><th>1</th><td>TX_BNT_162b2_binding</td><td>G_BNT_162b2+T7RNAP</td></tr><tr><th>2</th><td>TX_BNT_162b2_open</td><td>G_BNT_162b2_T7RNAP_closed</td></tr><tr><th>3</th><td>BNT_162b2_transcription</td><td>G_BNT_162b2_T7RNAP_open+798*M_atp_c+1004*M_utp_c+1060*M_ctp_c+1312*M_gtp_c</td></tr><tr><th>4</th><td>mRNA_BNT_162b2_degradation</td><td>mRNA_BNT_162b2</td></tr><tr><th>5</th><td>RNAP_deactivation</td><td>T7RNAP</td></tr><tr><th>6</th><td>GENE_deactivation</td><td>G_BNT_162b2</td></tr></tbody></table></div>"
      ],
      "text/latex": [
       "\\begin{tabular}{r|ccc}\n",
       "\t& id & forward & \\\\\n",
       "\t\\hline\n",
       "\t& String & String & \\\\\n",
       "\t\\hline\n",
       "\t1 & TX\\_BNT\\_162b2\\_binding & G\\_BNT\\_162b2+T7RNAP & $\\dots$ \\\\\n",
       "\t2 & TX\\_BNT\\_162b2\\_open & G\\_BNT\\_162b2\\_T7RNAP\\_closed & $\\dots$ \\\\\n",
       "\t3 & BNT\\_162b2\\_transcription & G\\_BNT\\_162b2\\_T7RNAP\\_open+798*M\\_atp\\_c+1004*M\\_utp\\_c+1060*M\\_ctp\\_c+1312*M\\_gtp\\_c & $\\dots$ \\\\\n",
       "\t4 & mRNA\\_BNT\\_162b2\\_degradation & mRNA\\_BNT\\_162b2 & $\\dots$ \\\\\n",
       "\t5 & RNAP\\_deactivation & T7RNAP & $\\dots$ \\\\\n",
       "\t6 & GENE\\_deactivation & G\\_BNT\\_162b2 & $\\dots$ \\\\\n",
       "\\end{tabular}\n"
      ],
      "text/plain": [
       "\u001b[1m6×7 DataFrame\u001b[0m\n",
       "\u001b[1m Row \u001b[0m│\u001b[1m id                         \u001b[0m\u001b[1m forward                           \u001b[0m\u001b[1m reverse \u001b[0m ⋯\n",
       "\u001b[1m     \u001b[0m│\u001b[90m String                     \u001b[0m\u001b[90m String                            \u001b[0m\u001b[90m String  \u001b[0m ⋯\n",
       "─────┼──────────────────────────────────────────────────────────────────────────\n",
       "   1 │ TX_BNT_162b2_binding        G_BNT_162b2+T7RNAP                 G_BNT_16 ⋯\n",
       "   2 │ TX_BNT_162b2_open           G_BNT_162b2_T7RNAP_closed          G_BNT_16\n",
       "   3 │ BNT_162b2_transcription     G_BNT_162b2_T7RNAP_open+798*M_at…  mRNA_BNT\n",
       "   4 │ mRNA_BNT_162b2_degradation  mRNA_BNT_162b2                     798*M_am\n",
       "   5 │ RNAP_deactivation           T7RNAP                             T7RNAP_i ⋯\n",
       "   6 │ GENE_deactivation           G_BNT_162b2                        G_BNT_16\n",
       "\u001b[36m                                                               5 columns omitted\u001b[0m"
      ]
     },
     "execution_count": 6,
     "metadata": {},
     "output_type": "execute_result"
    }
   ],
   "source": [
    "reaction_table"
   ]
  },
  {
   "cell_type": "code",
   "execution_count": 7,
   "id": "117417d4-2690-4a3a-8be5-5404e313fc56",
   "metadata": {},
   "outputs": [],
   "source": [
    "# How many species and reactions?\n",
    "(ℳ, ℛ) = size(S);"
   ]
  },
  {
   "cell_type": "code",
   "execution_count": 8,
   "id": "8208533f-04f4-4039-8a7b-44be76fce2d0",
   "metadata": {
    "jupyter": {
     "source_hidden": true
    },
    "tags": []
   },
   "outputs": [
    {
     "name": "stdout",
     "output_type": "stream",
     "text": [
      "┌───────┬───────────────────────────┐\n",
      "│\u001b[1m Index \u001b[0m│\u001b[1m                   Species \u001b[0m│\n",
      "├───────┼───────────────────────────┤\n",
      "│     1 │               G_BNT_162b2 │\n",
      "│     2 │                    T7RNAP │\n",
      "│     3 │                   M_atp_c │\n",
      "│     4 │                   M_utp_c │\n",
      "│     5 │                   M_ctp_c │\n",
      "│     6 │                   M_gtp_c │\n",
      "│     7 │            mRNA_BNT_162b2 │\n",
      "│     8 │                   M_ppi_c │\n",
      "│     9 │                   M_amp_c │\n",
      "│    10 │                   M_ump_c │\n",
      "│    11 │                   M_cmp_c │\n",
      "│    12 │                   M_gmp_c │\n",
      "│    13 │           T7RNAP_inactive │\n",
      "│    14 │      G_BNT_162b2_inactive │\n",
      "│    15 │ G_BNT_162b2_T7RNAP_closed │\n",
      "│    16 │   G_BNT_162b2_T7RNAP_open │\n",
      "└───────┴───────────────────────────┘\n"
     ]
    }
   ],
   "source": [
    "# initialize -\n",
    "species_index_table_data = Array{Any,2}(undef, ℳ, 2);\n",
    "\n",
    "# build table -\n",
    "for i ∈ 1:ℳ\n",
    "    species_index_table_data[i,1] = i;\n",
    "    species_index_table_data[i,2] = list_of_species[i];\n",
    "end\n",
    "\n",
    "# setup header -\n",
    "species_index_header_table = ([\"Index\", \"Species\"]);\n",
    "\n",
    "# build table -\n",
    "pretty_table(species_index_table_data; header=species_index_header_table);"
   ]
  },
  {
   "cell_type": "markdown",
   "id": "8f4b9bca-9d21-4f12-88fc-9eec06661610",
   "metadata": {
    "tags": []
   },
   "source": [
    "#### Setup the constants, feed rates and compositions"
   ]
  },
  {
   "cell_type": "code",
   "execution_count": 9,
   "id": "edb099ea-ee49-4e00-ad7c-9a9b2458a706",
   "metadata": {},
   "outputs": [],
   "source": [
    "# how many chips in series?\n",
    "number_of_chips = 15;\n",
    "\n",
    "# what fraction of the mRNA degrades?\n",
    "δ = 0.10;\n",
    "\n",
    "# MSU split ratio -\n",
    "θ = 1.0;\n",
    "\n",
    "# Setup constants for transcription -\n",
    "L = length(gene_sequence);\n",
    "K = 0.116; # saturation constant units: μmol/L; Source: ACS Synth. Biol. 2018, 7, 8, 1844–1857 https://doi.org/10.1021/acssynbio.7b00465\n",
    "v̇ₜ = (90.0)*(60); # units: nt/s; Source: BIND: 111871\n",
    "u = 0.95; # u-factor; Source: ACS Synth. Biol. 2018, 7, 8, 1844–1857 https://doi.org/10.1021/acssynbio.7b00465\n",
    "\n",
    "# volume -\n",
    "V = 100.0*(1/1e6); # liquid reaction volume on each chip units: L\n",
    "\n",
    "# Stock solution: PURExpress -> fed into chips by pump 2 (stream 2)\n",
    "# PURExpress flows into the chip in stream 2\n",
    "T7RNAP = 100.0;          # concentration in PURExpress units: μmol/L\n",
    "M_atp_c = 100*(1e6/1e3); # concentration in PURExpress units: μmol/L\n",
    "M_utp_c = 100*(1e6/1e3); # concentration in PURExpress units: μmol/L\n",
    "M_ctp_c = 100*(1e6/1e3); # concentration in PURExpress units: μmol/L\n",
    "M_gtp_c = 100*(1e6/1e3); # concentration in PURExpress units: μmol/L\n",
    "\n",
    "# Stock solution: DNA -> feed into splitter by pump 1 and then into chip (always stream 1)\n",
    "G_BNT_162b2 = 1.0;     # gene concentration in stock solution units: μmol/L\n",
    "\n",
    "# Volumetric flow rates from the pump *into* the splitter unit or chip - our base case will 1 ml/min; thus, let's\n",
    "# scale by the number of chips\n",
    "Ḟ₁ = number_of_chips*1000.0*(1/1e6); # volumetric flow rate of syringe pump 1 units: L/min\n",
    "Ḟ₂ = number_of_chips*1000.0*(1/1e6); # volumetric flow rate of syringe pump 2 units: L/min\n",
    "\n",
    "# stuff for the tables -\n",
    "current_table_counter = 0; # do not change me"
   ]
  },
  {
   "cell_type": "markdown",
   "id": "d6eba82f-57dd-47ca-a04e-42ca3e2f5dff",
   "metadata": {
    "tags": []
   },
   "source": [
    "#### Specify the inputs streams"
   ]
  },
  {
   "cell_type": "markdown",
   "id": "779f9f8b-1a29-4fa6-8d65-6f0913563ced",
   "metadata": {},
   "source": [
    "##### a) Specify the composition of feed stream 1\n",
    "By default, this stream contains only the gene encoding the mRNA BNT-162b2 product. The mainstream is split into sub-streams that are fed into each chip."
   ]
  },
  {
   "cell_type": "code",
   "execution_count": 10,
   "id": "3f5f3c3d-f73f-4449-87a2-1c0b365a5539",
   "metadata": {},
   "outputs": [],
   "source": [
    "# setup feed compostions for feed stream 1 \n",
    "ṅ₁ = zeros(ℳ); # default is zero, correct specific values -\n",
    "ṅ₁[1] = G_BNT_162b2*Ḟ₁*(1/number_of_chips); # units: μmol/min"
   ]
  },
  {
   "cell_type": "markdown",
   "id": "bf0ded76-4123-4232-9324-6a3528923c74",
   "metadata": {},
   "source": [
    "##### b) Specify the composition of feed stream 2\n",
    "By default, feed stream 2 contains the [PURExpress](https://www.neb.com/products/e6800-purexpress-invitro-protein-synthesis-kit#Product%20Information), which has everything we need to make our mRNA product of interest _expect_ the linear DNA. "
   ]
  },
  {
   "cell_type": "code",
   "execution_count": 11,
   "id": "816f2506-48bd-4fae-9396-2e6ea91e085e",
   "metadata": {},
   "outputs": [],
   "source": [
    "# setup feed compostions for feed stream 2: this feed goes into chip 1\n",
    "ṅ₂ = zeros(ℳ); # default is zero, then correct specific values -\n",
    "ṅ₂[2] = T7RNAP*Ḟ₂;  # units: μmol/min\n",
    "ṅ₂[3] = M_atp_c*Ḟ₂; # units: μmol/min\n",
    "ṅ₂[4] = M_utp_c*Ḟ₂; # units: μmol/min\n",
    "ṅ₂[5] = M_ctp_c*Ḟ₂; # units: μmol/min\n",
    "ṅ₂[6] = M_gtp_c*Ḟ₂; # units: μmol/min"
   ]
  },
  {
   "cell_type": "markdown",
   "id": "eb2540d8-a0b2-467b-94ed-20df1bbc0e57",
   "metadata": {
    "tags": []
   },
   "source": [
    "### Flux balance analysis setup\n",
    "* Describe the flux balance analysis method. \n",
    "* How did your group update the default species and flux bounds to model ths process?\n",
    "* What objective function did you choose?\n",
    "\n",
    "Flux balance analysis is a mathematical approach that is used to analyze the flow of metabolites through a metabolic network. This makes it possible to predict the growth rate of an organism or the rate of production of an important metabolite, which in this particular design would be mRNA BNT-162b2 target molecule. Flux balance analysis is only functional ***if the streams that are involved operate at steady state, so this assumption must be noted***.\n",
    "This specific FBA utilizes a mole-based approach to compute for a combination of optimal reaction extents that satisfies the linear objective, which is to maximize the transcription of the BNT-162b2 gene.\n",
    "\n",
    "The first and most important step in an FBA problem is to list the constraints. The first is rooted in the stoichiometries of the metabolic reactions that play a role in the production of the mRNA BNT-162b2 molecule. This can be resolved by creating a numerical matrix that contains the stoichiometric coefficients of each species in all reactions involved in the production of the mRNA BNT-162b2 molecule. Another important constraint is that there cannot be negative flow rates for any species in any reaction that result in the production of the mRNA. The final constraint is that all reaction extents must have a lower and upper bound. \n",
    "\n",
    "The above statements for each reactor chip can be summarized by the following formulas: \n",
    "\n",
    "The steady-state species mole balances are given by the equation:\n",
    "\n",
    "$$\\sum_{s∈S^{+}}{\\dot{n}_{si}}-\\sum_{k∈S^{-}}{\\dot{n}_{ki}}+\\sum_{j∈R}{\\sigma_{ij}\\dot{\\epsilon}_{j}=0}, \\quad \\forall i∈M$$\n",
    "\n",
    "From the second paragraph, $\\dot{n}_{i,j} \\geq 0$ for all i and j. Then, the (unknown) open extents $\\dot{\\epsilon}_{j}$ are the solution of a linear programming problem in which the linear objective ***N***, which is to maximize the production of mRNA-BNT-162b2.\n",
    "\n",
    "$$maximize \\, N = \\sum_{j∈R}{c_{j}\\dot{\\epsilon}_{j}}$$ and is subject to the following linear constraints:\n",
    "$$\\sum_{j∈R}{\\sigma_{ij}\\dot{\\epsilon}_{j}} \\geq -\\sum_{s∈S^{+}}{\\dot{n}_{si}} , \\quad \\forall i∈M $$\n",
    "$$\\sum_{k∈S^{-}}{\\dot{n}_{ki}} \\geq 0, \\quad \\forall i∈M $$\n",
    "$$L_{j}\\le \\dot{\\epsilon}_{j} \\le U_{j} , \\quad \\forall j∈R$$\n",
    "\n",
    "The lower and upper bounds for the species and reactions involved in the production of mRNA-BNT-162b2 are provided in the tables below.  \n",
    "\n",
    "List of Terms\n",
    "* The term M = set of species involved in the production of mRNA\n",
    "* The term R = set of reactions involved in the production of mRNA\n",
    "* The term $s∈S^{+}$ = the set of streams that enter the reactor chip \n",
    "* The term $s∈S^{-}$ = streams the set of streams that leave the reactor chip \n",
    "* The term $\\dot{n}_{s,i}$ = the mole flow rate of species ***i*** in input stream ***s*** (units: micromoles/min) involved in the production of mRNA\n",
    "* The term $\\dot{n}_{k,i}$ = the mole flow rate of species ***i*** in exit stream ***k*** (units: micromoles/min) involved in the production of mRNA\n",
    "* The term $\\sigma_{i,j}$ = stoichiometric coefficient of species ***i*** in reaction ***j*** involved in the production of mRNA\n",
    "* The term $\\dot{\\epsilon}_{j}$ = open extent of reaction (units: micromoles/min)\n",
    "* The term L = lower bound for reaction j involved in the production of mRNA\n",
    "* The term U = upper bound for reaction j involved in the production of mRNA"
   ]
  },
  {
   "cell_type": "markdown",
   "id": "a7669082-24c8-4652-acab-31f08d82b207",
   "metadata": {},
   "source": [
    "#### Species bounds"
   ]
  },
  {
   "cell_type": "code",
   "execution_count": 12,
   "id": "954766fb-ec77-48c6-9ed1-3bf4361ef02a",
   "metadata": {},
   "outputs": [],
   "source": [
    "# species bounds array -\n",
    "species_bounds_array = [-(ṅ₁ .+ ṅ₂) 10000.0*ones(ℳ,1)];"
   ]
  },
  {
   "cell_type": "markdown",
   "id": "ed34a6d3-ff56-4651-81d5-5a57d581fa03",
   "metadata": {},
   "source": [
    "#### Reaction bounds\n",
    "In the series case, reaction bounds will change for every chip. Let's set a default upper bound and then update the other bounds below. If you are a brave soul, you can alter the per-chip bounds, but you don't need to do so."
   ]
  },
  {
   "cell_type": "code",
   "execution_count": 13,
   "id": "b8d99481-c895-48c7-901e-9857415df738",
   "metadata": {},
   "outputs": [],
   "source": [
    "# initialize -\n",
    "flux_bounds_array = zeros(ℛ,2);\n",
    "flux_bounds_array[:,2] .= 1000.0; # large default upper bound"
   ]
  },
  {
   "cell_type": "code",
   "execution_count": 14,
   "id": "818f4ec9-d726-4165-b2ec-0d813dbf2b87",
   "metadata": {
    "jupyter": {
     "source_hidden": true
    },
    "tags": []
   },
   "outputs": [
    {
     "name": "stdout",
     "output_type": "stream",
     "text": [
      "\u001b[1mTable 1: Reaction index-name mapping table.\u001b[0m\n",
      "┌───────┬────────────────────────────┬─────────────┬─────────────┐\n",
      "│\u001b[1m Index \u001b[0m│\u001b[1m                   Reaction \u001b[0m│\u001b[1m lower bound \u001b[0m│\u001b[1m upper bound \u001b[0m│\n",
      "│\u001b[90m       \u001b[0m│\u001b[90m                            \u001b[0m│\u001b[90m    μmol/min \u001b[0m│\u001b[90m    μmol/min \u001b[0m│\n",
      "├───────┼────────────────────────────┼─────────────┼─────────────┤\n",
      "│     1 │       TX_BNT_162b2_binding │         0.0 │      1000.0 │\n",
      "│     2 │          TX_BNT_162b2_open │         0.0 │      1000.0 │\n",
      "│     3 │    BNT_162b2_transcription │         0.0 │      1000.0 │\n",
      "│     4 │ mRNA_BNT_162b2_degradation │         0.0 │      1000.0 │\n",
      "│     5 │          RNAP_deactivation │         0.0 │      1000.0 │\n",
      "│     6 │          GENE_deactivation │         0.0 │      1000.0 │\n",
      "└───────┴────────────────────────────┴─────────────┴─────────────┘\n"
     ]
    }
   ],
   "source": [
    "# initialize -\n",
    "reaction_index_table_data = Array{Any,2}(undef, ℛ, 4);\n",
    "\n",
    "# build table -\n",
    "for i ∈ 1:ℛ\n",
    "    reaction_index_table_data[i,1] = i;\n",
    "    reaction_index_table_data[i,2] = list_of_reactions[i];\n",
    "    reaction_index_table_data[i,3] = flux_bounds_array[i,1];\n",
    "    reaction_index_table_data[i,4] = flux_bounds_array[i,2];\n",
    "end\n",
    "\n",
    "# setup title string -\n",
    "reaction_table_title = \"Table $(current_table_counter+=1): Reaction index-name mapping table.\"\n",
    "\n",
    "# setup header -\n",
    "reaction_index_header_table = ([\"Index\", \"Reaction\", \"lower bound\", \"upper bound\"], [\"\", \"\", \"μmol/min\", \"μmol/min\"]);\n",
    "\n",
    "# build table -\n",
    "pretty_table(reaction_index_table_data, title=reaction_table_title; header=reaction_index_header_table);"
   ]
  },
  {
   "cell_type": "markdown",
   "id": "f966f46c-43ff-4476-ba47-341f0ebc3012",
   "metadata": {},
   "source": [
    "#### Objective coefficient array\n",
    "* What is the objective you used?\n",
    "\n",
    "The objective is to maximize BNT-162b2 transcription, which is why the objective vector is -1 for index 3."
   ]
  },
  {
   "cell_type": "code",
   "execution_count": 22,
   "id": "0bb000a0-1e21-4a67-ba7b-04e67221fbb3",
   "metadata": {},
   "outputs": [],
   "source": [
    "# setup the objective coefficient array -\n",
    "obj_vector = zeros(ℛ);\n",
    "obj_vector[3] = -1; # why negative?"
   ]
  },
  {
   "cell_type": "markdown",
   "id": "4faa535b-6df1-4931-b033-0d4e0a165d90",
   "metadata": {
    "tags": []
   },
   "source": [
    "## Results and Discussion "
   ]
  },
  {
   "cell_type": "markdown",
   "id": "d7d1ae72-a727-496a-a2c7-c54fd9c0f1b2",
   "metadata": {},
   "source": [
    "### Compute the optimal extent of reaction and exit stream for first chip"
   ]
  },
  {
   "cell_type": "code",
   "execution_count": 16,
   "id": "ed183ad9-ac61-443f-9c48-26a28da15af9",
   "metadata": {
    "jupyter": {
     "source_hidden": true
    },
    "tags": []
   },
   "outputs": [],
   "source": [
    "# initialize some space to store tmp soln -\n",
    "tmp_sim_storage_space = Dict{Int64,Tuple{Array{Float64,1},Array{Float64,1}}}();\n",
    "\n",
    "# compute -\n",
    "ṅ₃ = zeros(ℳ);\n",
    "for chip_index ∈ 1:number_of_chips\n",
    "    \n",
    "    if (chip_index == 1)\n",
    "        ṅ_chip = ṅ₂\n",
    "    else\n",
    "        ṅ_chip = ṅ₃\n",
    "    end\n",
    "        \n",
    "    # update the bounds model -\n",
    "    F̂₁ = ((chip_index/number_of_chips)*Ḟ₁)/(Ḟ₂+(chip_index/number_of_chips)*Ḟ₁)\n",
    "    F̂₂ = Ḟ₂/(Ḟ₂+(chip_index/number_of_chips)*Ḟ₁);\n",
    "    \n",
    "    # Estimate the RNAP and GENE concentration -\n",
    "    Rₜ = T7RNAP*F̂₂;                          # effective RNAP concentratation on the chip for the bounds units: μmol/L\n",
    "    GENE = G_BNT_162b2*F̂₁ + G_BNT_162b2*F̂₂  # effective GENE concentratation on the chip for the bounds units: μmol/L\n",
    "    flux_bounds_array[3,:] .= Rₜ*(v̇ₜ/L)*u*(GENE/(K+GENE))*V; # equality constraint\n",
    "\n",
    "    # Setup bound for degradation (lower bound)\n",
    "    flux_bounds_array[4,1] = δ*flux_bounds_array[3,1];\n",
    "    \n",
    "    # compute the optimal flux, and then estimate the output on the chip\n",
    "    result = compute_optimal_extent(S, flux_bounds_array, species_bounds_array, obj_vector);\n",
    "    ϵ̇ = result.calculated_flux_array;\n",
    "    ṅ₃ = (ṅ₁ + ṅ_chip) + S*ϵ̇;   # compute the output from the chip -\n",
    "    \n",
    "    # now, the outlet from chip i-1 is the input to chip 1 (in stream 2), but stream 1 stays the same\n",
    "    species_bounds_array = [-(ṅ₁ .+ ṅ_chip) 10000.0*ones(ℳ,1)];\n",
    "    \n",
    "    # grab -\n",
    "    tmp_sim_storage_space[chip_index] = (ṅ₃,ϵ̇);\n",
    "end"
   ]
  },
  {
   "cell_type": "code",
   "execution_count": 17,
   "id": "aae47456-162f-462b-b7ec-3f264789c815",
   "metadata": {
    "tags": []
   },
   "outputs": [
    {
     "name": "stdout",
     "output_type": "stream",
     "text": [
      "\u001b[1mTable 2: Chip species mole flow rates table\u001b[0m\n",
      "┌───────────────────────────┬─────────┬──────────┬──────────┬──────────┬──────────┬──────────┬──────────┬──────────┬──────────┬──────────┬──────────┬──────────┬──────────┬──────────┬──────────┬──────────┐\n",
      "│\u001b[1m                   Species \u001b[0m│\u001b[1m index i \u001b[0m│\u001b[1m   Chip 1 \u001b[0m│\u001b[1m   Chip 2 \u001b[0m│\u001b[1m   Chip 3 \u001b[0m│\u001b[1m   Chip 4 \u001b[0m│\u001b[1m   Chip 5 \u001b[0m│\u001b[1m   Chip 6 \u001b[0m│\u001b[1m   Chip 7 \u001b[0m│\u001b[1m   Chip 8 \u001b[0m│\u001b[1m   Chip 9 \u001b[0m│\u001b[1m  Chip 10 \u001b[0m│\u001b[1m  Chip 11 \u001b[0m│\u001b[1m  Chip 12 \u001b[0m│\u001b[1m  Chip 13 \u001b[0m│\u001b[1m  Chip 14 \u001b[0m│\u001b[1m  Chip 15 \u001b[0m│\n",
      "│\u001b[90m                           \u001b[0m│\u001b[90m         \u001b[0m│\u001b[90m μmol/min \u001b[0m│\u001b[90m μmol/min \u001b[0m│\u001b[90m μmol/min \u001b[0m│\u001b[90m μmol/min \u001b[0m│\u001b[90m μmol/min \u001b[0m│\u001b[90m μmol/min \u001b[0m│\u001b[90m μmol/min \u001b[0m│\u001b[90m μmol/min \u001b[0m│\u001b[90m μmol/min \u001b[0m│\u001b[90m μmol/min \u001b[0m│\u001b[90m μmol/min \u001b[0m│\u001b[90m μmol/min \u001b[0m│\u001b[90m μmol/min \u001b[0m│\u001b[90m μmol/min \u001b[0m│\u001b[90m μmol/min \u001b[0m│\n",
      "├───────────────────────────┼─────────┼──────────┼──────────┼──────────┼──────────┼──────────┼──────────┼──────────┼──────────┼──────────┼──────────┼──────────┼──────────┼──────────┼──────────┼──────────┤\n",
      "│               G_BNT_162b2 │       1 │    0.001 │    0.002 │    0.003 │    0.004 │    0.005 │    0.006 │    0.007 │    0.008 │    0.009 │     0.01 │    0.011 │    0.012 │    0.013 │    0.014 │    0.015 │\n",
      "│                    T7RNAP │       2 │      1.5 │      1.5 │      1.5 │      1.5 │      1.5 │      1.5 │      1.5 │      1.5 │      1.5 │      1.5 │      1.5 │      1.5 │      1.5 │      1.5 │      1.5 │\n",
      "│                   M_atp_c │       3 │  1491.76 │  1484.01 │  1476.69 │  1469.75 │  1463.16 │  1456.89 │   1450.9 │  1445.17 │  1439.67 │   1434.4 │  1429.33 │  1424.45 │  1419.75 │   1415.2 │  1410.81 │\n",
      "│                   M_utp_c │       4 │  1489.64 │  1479.88 │  1470.67 │  1461.94 │  1453.65 │  1445.76 │  1438.22 │  1431.01 │   1424.1 │  1417.47 │  1411.09 │  1404.95 │  1399.03 │  1393.31 │  1387.78 │\n",
      "│                   M_ctp_c │       5 │  1489.06 │  1478.76 │  1469.04 │  1459.82 │  1451.07 │  1442.73 │  1434.77 │  1427.16 │  1419.87 │  1412.87 │  1406.13 │  1399.65 │   1393.4 │  1387.36 │  1381.53 │\n",
      "│                   M_gtp_c │       6 │  1486.46 │  1473.71 │  1461.67 │  1450.27 │  1439.43 │  1429.12 │  1419.27 │  1409.85 │  1400.82 │  1392.15 │  1383.82 │  1375.79 │  1368.05 │  1360.58 │  1353.36 │\n",
      "│            mRNA_BNT_162b2 │       7 │    0.009 │    0.018 │    0.026 │    0.034 │    0.042 │    0.049 │    0.055 │    0.062 │    0.068 │    0.074 │     0.08 │    0.085 │    0.091 │    0.096 │    0.101 │\n",
      "│                   M_ppi_c │       8 │   43.084 │   83.634 │  121.932 │  158.213 │  192.681 │  225.507 │  256.841 │  286.813 │  315.536 │   343.11 │  369.624 │  395.155 │  419.775 │  443.546 │  466.524 │\n",
      "│                   M_amp_c │       9 │    0.824 │    1.599 │    2.331 │    3.025 │    3.684 │    4.311 │     4.91 │    5.483 │    6.033 │     6.56 │    7.067 │    7.555 │    8.025 │     8.48 │    8.919 │\n",
      "│                   M_ump_c │      10 │    1.036 │    2.012 │    2.933 │    3.806 │    4.635 │    5.424 │    6.178 │    6.899 │     7.59 │    8.253 │    8.891 │    9.505 │   10.097 │   10.669 │   11.222 │\n",
      "│                   M_cmp_c │      11 │    1.094 │    2.124 │    3.096 │    4.018 │    4.893 │    5.727 │    6.523 │    7.284 │    8.013 │    8.713 │    9.387 │   10.035 │    10.66 │   11.264 │   11.848 │\n",
      "│                   M_gmp_c │      12 │    1.354 │    2.629 │    3.833 │    4.973 │    6.056 │    7.088 │    8.073 │    9.015 │    9.918 │   10.785 │   11.618 │   12.421 │   13.195 │   13.942 │   14.664 │\n",
      "│           T7RNAP_inactive │      13 │      0.0 │      0.0 │      0.0 │      0.0 │      0.0 │      0.0 │      0.0 │      0.0 │      0.0 │      0.0 │      0.0 │      0.0 │      0.0 │      0.0 │      0.0 │\n",
      "│      G_BNT_162b2_inactive │      14 │      0.0 │      0.0 │      0.0 │      0.0 │      0.0 │      0.0 │      0.0 │      0.0 │      0.0 │      0.0 │      0.0 │      0.0 │      0.0 │      0.0 │      0.0 │\n",
      "│ G_BNT_162b2_T7RNAP_closed │      15 │      0.0 │      0.0 │      0.0 │      0.0 │      0.0 │      0.0 │      0.0 │      0.0 │      0.0 │      0.0 │      0.0 │      0.0 │      0.0 │      0.0 │      0.0 │\n",
      "│   G_BNT_162b2_T7RNAP_open │      16 │      0.0 │      0.0 │      0.0 │      0.0 │      0.0 │      0.0 │      0.0 │      0.0 │      0.0 │      0.0 │      0.0 │      0.0 │      0.0 │      0.0 │      0.0 │\n",
      "└───────────────────────────┴─────────┴──────────┴──────────┴──────────┴──────────┴──────────┴──────────┴──────────┴──────────┴──────────┴──────────┴──────────┴──────────┴──────────┴──────────┴──────────┘\n"
     ]
    }
   ],
   "source": [
    "system_flow_table_data = Array{Any,2}(undef, ℳ, number_of_chips+2);\n",
    "\n",
    "# populate the table -\n",
    "for i ∈ 1:ℳ\n",
    "    system_flow_table_data[i,1] = list_of_species[i];\n",
    "    system_flow_table_data[i,2] = i;\n",
    "    \n",
    "    for chip_index ∈ 1:number_of_chips\n",
    "        ṅ₃ = tmp_sim_storage_space[chip_index][1];\n",
    "        system_flow_table_data[i,chip_index+2] = round(ṅ₃[i], digits=3);\n",
    "    end\n",
    "end\n",
    "\n",
    "# build header -\n",
    "# names \n",
    "flow_table_name_row = Array{String,1}()\n",
    "push!(flow_table_name_row, \"Species\");\n",
    "push!(flow_table_name_row, \"index i\")\n",
    "for chip_index ∈ 1:number_of_chips\n",
    "    push!(flow_table_name_row, \"Chip $(chip_index)\")\n",
    "end\n",
    "\n",
    "# units\n",
    "flow_table_units_row = Array{String,1}()\n",
    "push!(flow_table_units_row, \"\");\n",
    "push!(flow_table_units_row, \"\")\n",
    "for chip_index ∈ 1:number_of_chips\n",
    "    push!(flow_table_units_row, \"μmol/min\")\n",
    "end\n",
    "\n",
    "\n",
    "# title -\n",
    "flow_table_title = \"Table $(current_table_counter+=1): Chip species mole flow rates table\"\n",
    "\n",
    "# header -\n",
    "flux_table_header = (flow_table_name_row, flow_table_units_row)\n",
    "\n",
    "# show -\n",
    "pretty_table(system_flow_table_data, title=flow_table_title; header=flux_table_header)"
   ]
  },
  {
   "cell_type": "code",
   "execution_count": 18,
   "id": "a2addf2a-2032-4526-9608-b5259b6d7646",
   "metadata": {},
   "outputs": [
    {
     "data": {
      "text/plain": [
       "16×17 Matrix{Any}:\n",
       " \"G_BNT_162b2\"                 1     0.001  …     0.013     0.014     0.015\n",
       " \"T7RNAP\"                      2     1.5          1.5       1.5       1.5\n",
       " \"M_atp_c\"                     3  1491.76      1419.75   1415.2    1410.81\n",
       " \"M_utp_c\"                     4  1489.64      1399.03   1393.31   1387.78\n",
       " \"M_ctp_c\"                     5  1489.06      1393.4    1387.36   1381.53\n",
       " \"M_gtp_c\"                     6  1486.46   …  1368.05   1360.58   1353.36\n",
       " \"mRNA_BNT_162b2\"              7     0.009        0.091     0.096     0.101\n",
       " \"M_ppi_c\"                     8    43.084      419.775   443.546   466.524\n",
       " \"M_amp_c\"                     9     0.824        8.025     8.48      8.919\n",
       " \"M_ump_c\"                    10     1.036       10.097    10.669    11.222\n",
       " \"M_cmp_c\"                    11     1.094  …    10.66     11.264    11.848\n",
       " \"M_gmp_c\"                    12     1.354       13.195    13.942    14.664\n",
       " \"T7RNAP_inactive\"            13     0.0          0.0       0.0       0.0\n",
       " \"G_BNT_162b2_inactive\"       14     0.0          0.0       0.0       0.0\n",
       " \"G_BNT_162b2_T7RNAP_closed\"  15     0.0          0.0       0.0       0.0\n",
       " \"G_BNT_162b2_T7RNAP_open\"    16     0.0    …     0.0       0.0       0.0"
      ]
     },
     "execution_count": 18,
     "metadata": {},
     "output_type": "execute_result"
    }
   ],
   "source": [
    "# this will print the last few chips (in case the table formatting gets nutty)\n",
    "system_flow_table_data"
   ]
  },
  {
   "cell_type": "markdown",
   "id": "e87e7984-92b8-426d-a0b0-56126f75bc1c",
   "metadata": {},
   "source": [
    "### Design a downstream seperation using Magical Seperator Units (MSU)"
   ]
  },
  {
   "cell_type": "code",
   "execution_count": 19,
   "id": "182cd067-ea09-464b-8aed-2f560622864a",
   "metadata": {},
   "outputs": [],
   "source": [
    "# default -\n",
    "ṅ₃ = tmp_sim_storage_space[number_of_chips][1]\n",
    "\n",
    "# build a downstream seperation process with this number of levels:\n",
    "number_of_levels = 2; # includes zero"
   ]
  },
  {
   "cell_type": "code",
   "execution_count": 20,
   "id": "f5456b44-0f35-4d9f-b0df-85afc56ecc74",
   "metadata": {
    "jupyter": {
     "source_hidden": true
    },
    "tags": []
   },
   "outputs": [
    {
     "name": "stdout",
     "output_type": "stream",
     "text": [
      "\u001b[1mTable 3: Magical Seperator Unit (MSU) flow table; N0 denotes the feed while N⋆ denotes the leaves of the tree.\u001b[0m\n",
      "┌───────────────────────────┬─────────┬──────────┬──────────┬──────────┐\n",
      "│\u001b[1m                   Species \u001b[0m│\u001b[1m index i \u001b[0m│\u001b[1m       N0 \u001b[0m│\u001b[1m       N2 \u001b[0m│\u001b[1m       N3 \u001b[0m│\n",
      "│\u001b[90m                           \u001b[0m│\u001b[90m         \u001b[0m│\u001b[90m μmol/min \u001b[0m│\u001b[90m μmol/min \u001b[0m│\u001b[90m μmol/min \u001b[0m│\n",
      "├───────────────────────────┼─────────┼──────────┼──────────┼──────────┤\n",
      "│               G_BNT_162b2 │       1 │    0.015 │      0.0 │    0.015 │\n",
      "│                    T7RNAP │       2 │      1.5 │      0.0 │      1.5 │\n",
      "│                   M_atp_c │       3 │  1410.81 │      0.0 │  1410.81 │\n",
      "│                   M_utp_c │       4 │  1387.78 │      0.0 │  1387.78 │\n",
      "│                   M_ctp_c │       5 │  1381.52 │      0.0 │  1381.52 │\n",
      "│                   M_gtp_c │       6 │  1353.36 │      0.0 │  1353.36 │\n",
      "│            mRNA_BNT_162b2 │       7 │ 0.100592 │ 0.100592 │      0.0 │\n",
      "│                   M_ppi_c │       8 │  466.524 │      0.0 │  466.524 │\n",
      "│                   M_amp_c │       9 │  8.91917 │      0.0 │  8.91917 │\n",
      "│                   M_ump_c │      10 │  11.2216 │      0.0 │  11.2216 │\n",
      "│                   M_cmp_c │      11 │  11.8475 │      0.0 │  11.8475 │\n",
      "│                   M_gmp_c │      12 │  14.6641 │      0.0 │  14.6641 │\n",
      "│           T7RNAP_inactive │      13 │      0.0 │      0.0 │      0.0 │\n",
      "│      G_BNT_162b2_inactive │      14 │      0.0 │      0.0 │      0.0 │\n",
      "│ G_BNT_162b2_T7RNAP_closed │      15 │      0.0 │      0.0 │      0.0 │\n",
      "│   G_BNT_162b2_T7RNAP_open │      16 │      0.0 │      0.0 │      0.0 │\n",
      "└───────────────────────────┴─────────┴──────────┴──────────┴──────────┘\n"
     ]
    }
   ],
   "source": [
    "# initialize -\n",
    "tmp_storage_dict = Dict{Int64, MSULatticeModel}();\n",
    "\n",
    "# is_product_vector -\n",
    "is_product_vector = zeros(ℳ);\n",
    "is_product_vector[7] = 1;\n",
    "\n",
    "# compute the composition array -\n",
    "for i ∈ 1:ℳ\n",
    "\n",
    "    if (is_product_vector[i] == 1)\n",
    "        msu_lattice_model = build(MSULatticeModel; ṅₒ = ṅ₃[i], L = number_of_levels , u = θ, d = (1 - θ));\n",
    "    else\n",
    "        msu_lattice_model = build(MSULatticeModel; ṅₒ = ṅ₃[i], L = number_of_levels , u = (1 - θ), d = θ);\n",
    "    end\n",
    "    \n",
    "    # grab -\n",
    "    tmp_storage_dict[i] = msu_lattice_model;\n",
    "end\n",
    "\n",
    "# grab the leaves -\n",
    "nodes_dict = build_nodes_dictionary(number_of_levels);\n",
    "children_dict = build_children_dictionary(nodes_dict);\n",
    "tree_leaves = nodes_dict[number_of_levels-1];\n",
    "\n",
    "# build a composition array -\n",
    "number_of_nodes = length(tree_leaves);\n",
    "composition_array = Array{Float64,2}(undef, number_of_nodes, ℳ);\n",
    "for i ∈ 1:ℳ\n",
    "    data = tmp_storage_dict[i].data;\n",
    "    for j ∈ 1:number_of_nodes\n",
    "        composition_array[j,i] = data[tree_leaves[j]]\n",
    "    end\n",
    "end\n",
    "\n",
    "# make a pretty table and show the leaves of the tree -\n",
    "\n",
    "# initialize -\n",
    "sep_tree_flow_table_data = Array{Any,2}(undef, ℳ, length(tree_leaves) + 3)\n",
    "for i ∈ 1:ℳ\n",
    "    sep_tree_flow_table_data[i,1] = list_of_species[i];\n",
    "    sep_tree_flow_table_data[i,2] = i;\n",
    "    sep_tree_flow_table_data[i,3] = ṅ₃[i] # put node 0 in table -\n",
    "        \n",
    "    for j ∈ 1:length(tree_leaves)\n",
    "        sep_tree_flow_table_data[i,3+j] = composition_array[j,i]\n",
    "    end\n",
    "end\n",
    "\n",
    "# labels row -\n",
    "label_row = Array{String,1}();\n",
    "push!(label_row,\"Species\");\n",
    "push!(label_row,\"index i\")\n",
    "push!(label_row,\"N0\")\n",
    "for j ∈ 1:length(tree_leaves)\n",
    "    push!(label_row, \"N$(tree_leaves[j])\");\n",
    "end\n",
    "\n",
    "# units row -\n",
    "units_row = Array{String,1}();\n",
    "push!(units_row, \"\");\n",
    "push!(units_row, \"\");\n",
    "for j ∈ 1:length(tree_leaves)+1\n",
    "    push!(units_row, \"μmol/min\");\n",
    "end\n",
    "\n",
    "# header -\n",
    "sep_tree_flow_table_header = (label_row, units_row);\n",
    "\n",
    "# set title -\n",
    "title = \"Table $(current_table_counter+=1): Magical Seperator Unit (MSU) flow table; N0 denotes the feed while N⋆ denotes the leaves of the tree.\"\n",
    "\n",
    "# show -\n",
    "pretty_table(sep_tree_flow_table_data, title=title; header=sep_tree_flow_table_header)"
   ]
  },
  {
   "cell_type": "code",
   "execution_count": 21,
   "id": "3a8b3f45-6f00-4201-9418-407810432f4c",
   "metadata": {
    "jupyter": {
     "source_hidden": true
    },
    "tags": []
   },
   "outputs": [
    {
     "name": "stdout",
     "output_type": "stream",
     "text": [
      "\u001b[1mTable 4: Magical Seperator Unit (MSU) composition table.\u001b[0m\n",
      "┌───────────────────────────┬─────────┬───────────┬───────────┬───────────┐\n",
      "│\u001b[1m                   Species \u001b[0m│\u001b[1m index i \u001b[0m│\u001b[1m        N0 \u001b[0m│\u001b[1m        N2 \u001b[0m│\u001b[1m        N3 \u001b[0m│\n",
      "│\u001b[90m                           \u001b[0m│\u001b[90m         \u001b[0m│\u001b[90m mole frac \u001b[0m│\u001b[90m mole frac \u001b[0m│\u001b[90m mole frac \u001b[0m│\n",
      "├───────────────────────────┼─────────┼───────────┼───────────┼───────────┤\n",
      "│               G_BNT_162b2 │       1 │       0.0 │       0.0 │       0.0 │\n",
      "│                    T7RNAP │       2 │    0.0002 │       0.0 │    0.0002 │\n",
      "│                   M_atp_c │       3 │    0.2333 │       0.0 │    0.2333 │\n",
      "│                   M_utp_c │       4 │    0.2295 │       0.0 │    0.2295 │\n",
      "│                   M_ctp_c │       5 │    0.2284 │       0.0 │    0.2284 │\n",
      "│                   M_gtp_c │       6 │    0.2238 │       0.0 │    0.2238 │\n",
      "│            mRNA_BNT_162b2 │       7 │       0.0 │       1.0 │       0.0 │\n",
      "│                   M_ppi_c │       8 │    0.0771 │       0.0 │    0.0771 │\n",
      "│                   M_amp_c │       9 │    0.0015 │       0.0 │    0.0015 │\n",
      "│                   M_ump_c │      10 │    0.0019 │       0.0 │    0.0019 │\n",
      "│                   M_cmp_c │      11 │     0.002 │       0.0 │     0.002 │\n",
      "│                   M_gmp_c │      12 │    0.0024 │       0.0 │    0.0024 │\n",
      "│           T7RNAP_inactive │      13 │       0.0 │       0.0 │       0.0 │\n",
      "│      G_BNT_162b2_inactive │      14 │       0.0 │       0.0 │       0.0 │\n",
      "│ G_BNT_162b2_T7RNAP_closed │      15 │       0.0 │       0.0 │       0.0 │\n",
      "│   G_BNT_162b2_T7RNAP_open │      16 │       0.0 │       0.0 │       0.0 │\n",
      "└───────────────────────────┴─────────┴───────────┴───────────┴───────────┘\n"
     ]
    }
   ],
   "source": [
    "# build mol frac composition table -\n",
    "\n",
    "# construct mol frac array -\n",
    "mol_frac_array = Array{Float64,2}(undef, ℳ, length(tree_leaves)+1);\n",
    "\n",
    "# node 0 -\n",
    "ṅ₃_total = sum(ṅ₃);\n",
    "for i ∈ 1:ℳ\n",
    "    mol_frac_array[i,1] = ṅ₃[i]*(1/ṅ₃_total);    \n",
    "end\n",
    "\n",
    "# get the sums along rows -\n",
    "ṅ_total = sum(composition_array,dims = 2);\n",
    "for node ∈ 1:length(tree_leaves)\n",
    "    for i ∈ 1:ℳ\n",
    "        mol_frac_array[i,node+1] = composition_array[node,i]*(1/ṅ_total[node]);\n",
    "    end\n",
    "end\n",
    "\n",
    "# initialize -\n",
    "sep_tree_mol_frac_table_data = Array{Any,2}(undef, ℳ, length(tree_leaves) + 3)\n",
    "for i ∈ 1:ℳ\n",
    "    sep_tree_mol_frac_table_data[i,1] = list_of_species[i];\n",
    "    sep_tree_mol_frac_table_data[i,2] = i;\n",
    "    sep_tree_mol_frac_table_data[i,3] = round(mol_frac_array[i,1], digits=4) # put node 0 in table -\n",
    "        \n",
    "    for j ∈ 1:length(tree_leaves)\n",
    "        sep_tree_mol_frac_table_data[i, 3+j] = round(mol_frac_array[i,j+1], digits=4)\n",
    "    end\n",
    "end\n",
    "\n",
    "# labels row -\n",
    "label_mft_row = Array{String,1}();\n",
    "push!(label_mft_row,\"Species\");\n",
    "push!(label_mft_row,\"index i\")\n",
    "push!(label_mft_row,\"N0\")\n",
    "for j ∈ 1:length(tree_leaves)\n",
    "    push!(label_mft_row, \"N$(tree_leaves[j])\");\n",
    "end\n",
    "\n",
    "# units row -\n",
    "units_mft_row = Array{String,1}();\n",
    "push!(units_mft_row, \"\");\n",
    "push!(units_mft_row, \"\");\n",
    "for j ∈ 1:length(tree_leaves)+1\n",
    "    push!(units_mft_row, \"mole frac\");\n",
    "end\n",
    "\n",
    "# header -\n",
    "sep_tree_mft_table_header = (label_mft_row, units_mft_row);\n",
    "\n",
    "# set title -\n",
    "title_mft = \"Table $(current_table_counter+=1): Magical Seperator Unit (MSU) composition table.\"\n",
    "\n",
    "# show -\n",
    "pretty_table(sep_tree_mol_frac_table_data, title=title_mft; header=sep_tree_mft_table_header)"
   ]
  },
  {
   "cell_type": "markdown",
   "id": "1c6fe5c9-bbbf-4e7b-865b-f04a967a9997",
   "metadata": {},
   "source": [
    "### Financial analysis\n",
    "\n",
    "* Compute the [Net Present Value](https://varnerlab.github.io/ENGRI-1120-IntroToChemE-Book/chapter-1-dir/money-balances.html#net-present-value-npv) of your design using the cost spreadsheet on canvas.\n",
    "* What price for the mRNA product do we need to set to have a NPV equal to zero?\n",
    "* How could you improve the financial performance/NPV of your design?\n",
    "\n",
    "This calculation for the Net Present Value of the design depends on a few assumptions. They are: \n",
    "* The production of mRNA-BNT162b2 runs 24/7 for 5 straight years. This is only possible through the use of machines. \n",
    "* None of the units (i.e. heat exchangers, MSUs, streams, reactor chips) including the machines break down during those five years. \n",
    "* It is possible to buy enough PURExpress to last for 5 years for this process in the first year. This will constitute a huge part of the startup cost. \n",
    "* The PURExpress that is bought will not expire during those 5 years, i.e. its contents will always act in their ideal capabilities during those 5 years.\n",
    "* We only sell the mRNA that is produced from this process. Unreacted starting materials (PURExpress and BNT-162b2 gene) are labelled as \"waste,\" and are subsequently disposed.\n",
    "* We are always able to sell the mRNA that is produced at a certain price — so no discounts — 24/7/365 during those five years. \n",
    "* The only cash flow after the first year comes from selling the mRNA product, and remains constant every year. \n",
    "\n",
    "\n",
    "The Net Present Value of this design can then be expressed as: \n",
    "$$ NPV = CF_1 + \\sum_{t=2}^{T}D^{-1}_{t,1}(CF_t) = CF_1 + \\sum_{t=2}^{T}(1+r)^{1-t}(CF_t)$$\n",
    "where: \n",
    "* $CF_{1}$ = startup cost, i.e. PURExpress for 5 years and other components for manufacturing (unit: dollars)\n",
    "* $D_{t,1}^{-1}$ = multi-period discount factor = $((1+r)^{t-1})^{-1} = (1+r)^{1-t}$\n",
    "* $r$ = rate of return\n",
    "* $CF_t$ = cash flow at time t (unit: dollars)\n",
    "\n",
    "$\\quad$\n",
    "\n",
    "Since the cash flow after $t = 1$ is the income generated from ***only*** selling mRNA, and $r = 0.041$, the NPV can be expressed as: \n",
    "$$ NPV = CF_1 + \\sum_{t=2}^{5}(1.041)^{1-t}(a \\cdot N)$$\n",
    "where:\n",
    "* a = price per micromole of mRNA (units: dollars/μmol)\n",
    "* N = amount of micromoles produced in a year (units: μmol)\n",
    "\n",
    "$\\quad$\n",
    "\n",
    "First, determine $CF_1$. We start by calculating the number of PURExpress we need if this process were to run all days of the week for 5 years. \n",
    "\n",
    "$$Total\\, PURExpress= 525600\\, min \\cdot \\dot{F_{2}} \\cdot 5\\, years$$\n",
    "where\n",
    "* $\\dot{F_{2}}$ = volumetric flow rate of syringe pump 2 (unit: L/min)\n",
    "\n",
    "$\\quad$\n",
    "\n",
    "In this design, $\\dot{F_{2}} = 0.015\\,L/min$, so the total number of PURExpress that is consumed in 5 years is: \n",
    "$$Total\\, PURExpress = 39420\\,L$$\n",
    "\n",
    "Additionally, $1L \\, of\\, PURExpress = 9500\\, dollars$, so \n",
    "$$ Cost\\, of\\, PURExpress = -374,490,000 \\, dollars $$\n",
    "\n",
    "$\\quad$ \n",
    "\n",
    "The cost of all manufacturing units used in this design is 28,725 dollars.\n",
    "\n",
    "Adding all costs together, \n",
    "$$ CF_1 = -374,518,725 \\, dollars $$\n",
    "\n",
    "$\\quad$\n",
    "\n",
    "Next, we need to calculate ***N***, which is the number of micromoles of mRNA produced by this design in a year. \n",
    "\n",
    "$$ \n",
    "\\begin{eqnarray}\n",
    "N = (\\dot{P}) \\cdot (525600\\, min)\n",
    "\\end{eqnarray}\n",
    "$$\n",
    "where: \n",
    "* $\\dot{P}$ = flow rate of mRNA-BNT-162b2 in node 2 (μmol/min)\n",
    "Our design process has a $\\dot{P} = 0.100592$, therefore: \n",
    "\n",
    "$$ N = (0.100592\\,{\\mu mol\\over min}) \\cdot (525600\\, min) = 52871.1552\\, \\mu mol$$\n",
    "\n",
    "$\\quad$\n",
    "\n",
    "Finally, we can assemble a full expression for NPV. It is: \n",
    "$$ NPV = CF_1 + \\sum_{t=2}^{5}(1.041)^{1-t}(a \\cdot N) = -374518725 + \\sum_{t=2}^{5}(1.041)^{1-t}(52871.1552\\, \\mu mol \\cdot a)$$\n",
    "\n",
    "If we set NPV = 0,\n",
    "$$ -374518725\\, dollars + \\sum_{t=2}^{5}(1.041)^{1-t}(52871.1552\\, \\mu mol \\cdot a) = 0 $$\n",
    "$$\\sum_{t=2}^{5}(1.041)^{1-t}(52871.1552\\, \\mu mol \\cdot a) = 374518725\\, dollars $$\n",
    "$$\\sum_{t=2}^{5}(1.041)^{1-t}(a) = 7083.61154 {dollars\\over \\mu mol}$$\n",
    "$$((1.041)^{-1} \\cdot a)+((1.041)^{-2} \\cdot a)+((1.041)^{-3} \\cdot a)+((1.041)^{-4} \\cdot a) = 7083.61154 {dollars\\over \\mu mol}$$\n",
    "$$a((1.041)^{-1}+(1.041)^{-2}+(1.041)^{-3}+(1.041)^{-4}) = 7083.61154 {dollars\\over \\mu mol} $$\n",
    "$$a \\approx 1956.07 {dollars\\over \\mu mol} $$\n",
    "\n",
    "$\\quad$\n",
    "\n",
    "The price for a micromole of mRNA is $1956.07 {dollars\\over \\mu mol}$. Recall that this value is only if the mRNA that is produced by this process is sold, and all the unreacted starting materials are disposed. It is obvious that the high value of $CF_1$ can be attributed to the purchase of PURExpress. It is obvious then that reducing the amount of PURExpress that is consumed and subsequently wasted will boost the economic feasibility of this design. \n",
    "\n",
    "This means that under this design process, each micromole of mRNA-BNT162b2 would have to be sold at a retail price of ***1956.07 dollars*** to generate the same income as an alternative investment yieldign 4.1 percent per year. \n",
    "\n",
    "Here are a few measures that can be taken to do so: \n",
    "* The PURExpress that flows out of node 3 can be recycled via a stream to reactor chip 1. However, it is important to mention that the PURExpress that flows out of node 3 has a temperature of -25℃ because of the heat exchanger stationed behind the MSU. For this reason, another heat exchanger will be required to heat the PURExpress solution to 37℃\n",
    "* Like Pfizer and many other pharmaceutical companies, we could produce our version of the PURExpress solution. This would greatly reduce the costs.\n",
    "* Additionally, we could strike a deal with the manufacturers of the PURExpress in-vitro expression kits in order to attain PURExpress at a cheaper price. "
   ]
  },
  {
   "cell_type": "markdown",
   "id": "e4224bf2-f9c7-48a0-b195-0e3352576875",
   "metadata": {},
   "source": [
    "## Summary and conclusions\n",
    "* Fill me in, see rubric."
   ]
  },
  {
   "cell_type": "markdown",
   "id": "0ce74f58-3061-4901-b988-0beb2980a20c",
   "metadata": {},
   "source": [
    "## References and Additional Resources\n",
    "* “Shell and Tube Heat Exchanger Fouling - Klaren International BV.” Klaren International - Just another WordPress site. Klaren International, October 16, 2022. https://klarenbv.com/heat-exchanger-basics/. \n",
    "* Biolabs, New England. “PURExpress® in Vitro Protein Synthesis Kit.” PURExpress In-Vitro Expression Kit. New England Biolabs. Accessed December 15, 2022. https://www.neb.com/products/e6800-purexpress-invitro-protein-synthesis-kit#Product%20Information_Kit%20Components. \n",
    "* Khehra, Nimrat, Inderbir Padda, Urooj Jaferi, Harshan Atwal, Shreya Narain, and Mayur S Parmar. “Tozinameran (BNT162B2) Vaccine: The Journey from Preclinical Research to Clinical Trials and Authorization.” AAPS PharmSciTech. U.S. National Library of Medicine, June 7, 2021. https://www.ncbi.nlm.nih.gov/pmc/articles/PMC8184133/. \n",
    "* Gao, Weiwei, Che-Ming  J Hu, Ronnie  H Fang, and Liangfang Zhang. “Liposome-like Nanostructures for Drug Delivery.” Journal of materials chemistry. B. U.S. National Library of Medicine, December 28, 2013. https://www.ncbi.nlm.nih.gov/pmc/articles/PMC3877745/. \n",
    "* Polack, Fernando P, Stephen J Thomas, Nicholas Kitchin, Judith Absalon, Alejandra Gurtman, Stephen Lockhart, John L Perez, et al. “Safety and Efficacy of the BNT162B2 Mrna Covid-19 Vaccine.” The New England journal of medicine. U.S. National Library of Medicine, December 31, 2020. https://www.ncbi.nlm.nih.gov/pmc/articles/PMC7745181/. \n",
    "* CDC. “Grade: Moderna Covid-19 Vaccine.” Centers for Disease Control and Prevention. Centers for Disease Control and Prevention, December 20, 2020. https://www.cdc.gov/vaccines/acip/recs/grade/covid-19-moderna-vaccine.html. \n",
    "* Orth, Jeffrey  D, Ines Thiele, and Bernhard Ø Palsson. “What Is Flux Balance Analysis?” Nature biotechnology. U.S. National Library of Medicine, June 6, 2011. https://www.ncbi.nlm.nih.gov/pmc/articles/PMC3108565/. \n",
    "* ENGRI-1120 Textbook, Intro to Flux Balance Analysis and Metabolic Engineering."
   ]
  }
 ],
 "metadata": {
  "kernelspec": {
   "display_name": "Julia 1.8.0",
   "language": "julia",
   "name": "julia-1.8"
  },
  "language_info": {
   "file_extension": ".jl",
   "mimetype": "application/julia",
   "name": "julia",
   "version": "1.8.0"
  }
 },
 "nbformat": 4,
 "nbformat_minor": 5
}
